{
 "cells": [
  {
   "cell_type": "markdown",
   "metadata": {},
   "source": [
    " <h4>Unit 3 <h1 style=\"text-align:center\"> Chapter 1</h1>\n",
    " \n",
    " ---"
   ]
  },
  {
   "cell_type": "markdown",
   "metadata": {},
   "source": [
    "## Classification\n",
    "\n",
    "> Classification can be explained as a process of deciding what letters, what words, what object has been presented as an input.\n",
    "\n",
    "In other words, it is the process of assigning a category to an input.\n",
    "\n",
    "For example, given an image, to decide wether it is of a cat or a dog, is classification, where ```cat and dog``` are <strong>classes.</strong> "
   ]
  },
  {
   "cell_type": "markdown",
   "metadata": {},
   "source": [
    "<br>\n",
    "\n",
    "### Text Categorization\n",
    "\n",
    "> The task of assigning a category or label to a text or a document."
   ]
  },
  {
   "cell_type": "markdown",
   "metadata": {},
   "source": [
    "# Applications of Classification in NLP\n",
    "---\n",
    "\n",
    "## Sentiment Analysis\n",
    "\n",
    "In this unit we will go through a classification task called <strong>sentiment analysis</strong>. In a sentiment analysis task, we analyse a piece of text and determine the sentiment of that text i.e. categorize text into ```positive``` or ```negative```, and there could be more, but for the sake of simplicity we will use only two classes.\n",
    "\n",
    "This makes the task as <strong>binary classification</strong> problem.\n",
    "\n",
    "We will also be implementing sentiment analysis using python3, and scikit-learn as a part of this.\n",
    "\n"
   ]
  },
  {
   "cell_type": "markdown",
   "metadata": {},
   "source": [
    "---\n",
    "\n",
    "To understand the sentiment of a text, the words present in the text are generally the best cue.\n",
    "\n",
    "For example, if a sentence is built of words like ```pathetic```, ```awful```, then it will generally be a <strong>negative sentence</strong>.\n",
    "\n",
    "On the other hand if a text is full of words like ```awesome```, ```great```, it is cue that the sentence might be <strong>positive</strong>.\n"
   ]
  },
  {
   "cell_type": "markdown",
   "metadata": {},
   "source": [
    "---\n",
    "\n",
    "## Spam Detection\n",
    "\n",
    "Spam detection is the task of classifying emails into one of the two classes i.e. ```spam``` or ```not spam```.\n",
    "\n",
    "This makes the task as <strong>binary classification</strong> problem.\n",
    "\n",
    "\n",
    "---\n",
    "\n",
    "## Language Id\n",
    "\n",
    "Text or documents on social media, in emails can be in any language. \n",
    "\n",
    "Language Id is the task of assigning language label to a piece of text or document. It is usually the first step in any NLP pipeline.\n",
    "\n",
    "\n"
   ]
  },
  {
   "cell_type": "markdown",
   "metadata": {},
   "source": [
    "---\n",
    "\n",
    "Language modeling can also be thought as a classification task.\n",
    "\n",
    "Each word can be thought of as a class."
   ]
  },
  {
   "cell_type": "markdown",
   "metadata": {},
   "source": [
    "``` \n",
    "The goal of classification is to take a single observation, extract some useful features, and thereby classify the observation into one of a set of discrete classes.\n",
    "```"
   ]
  },
  {
   "cell_type": "markdown",
   "metadata": {},
   "source": [
    "---\n",
    "\n",
    "One method of classification can be - handwritten rules.\n",
    "\n",
    "Suppose you have to classify if a piece of wood is pencil or not.\n",
    "\n",
    "Hence, classes = ```pencil``` | ```not pencil```\n",
    "\n",
    "Rules can be based on the following <strong>features</strong>,\n",
    "\n",
    "- Length of wood\n",
    "- Presence of graphite\n",
    "- Ratio of wood and graphite\n"
   ]
  },
  {
   "cell_type": "markdown",
   "metadata": {},
   "source": [
    "## A very very naive classifier written in python3"
   ]
  },
  {
   "cell_type": "code",
   "execution_count": 14,
   "metadata": {},
   "outputs": [],
   "source": [
    "class pencilClassifier():\n",
    "    \n",
    "    def __init__(self, length_of_wood, presence_of_graphite):\n",
    "        self.length_of_wood = length_of_wood\n",
    "        self.presence_of_graphite = presence_of_graphite\n",
    "        \n",
    "    def isItAPencil(self):\n",
    "        if self.length_of_wood > 15 or self.presence_of_graphite == 'No':\n",
    "            return \"Not Pencil\"\n",
    "        elif self.length_of_wood <= 15 and self.presence_of_graphite == 'No':\n",
    "            return \"Not Pencil\"\n",
    "        elif self.length_of_wood <= 15 and self.presence_of_graphite == 'Yes':\n",
    "            return \"Pencil\"\n",
    "        else:\n",
    "            return \"Not Pencil\""
   ]
  },
  {
   "cell_type": "code",
   "execution_count": 15,
   "metadata": {},
   "outputs": [],
   "source": [
    "classifier = pencilClassifier(length_of_wood=15,presence_of_graphite='No')\n",
    "\n",
    "# The wood is equal to 15 cms but has no graphite, hence it is not a pencil"
   ]
  },
  {
   "cell_type": "code",
   "execution_count": 16,
   "metadata": {},
   "outputs": [
    {
     "data": {
      "text/plain": [
       "'Not Pencil'"
      ]
     },
     "execution_count": 16,
     "metadata": {},
     "output_type": "execute_result"
    }
   ],
   "source": [
    "classifier.isItAPencil()"
   ]
  },
  {
   "cell_type": "code",
   "execution_count": 17,
   "metadata": {},
   "outputs": [],
   "source": [
    "classifier2 = pencilClassifier(length_of_wood=21,presence_of_graphite='Yes')\n",
    "\n",
    "# The wood has graphite now, but it is too big to be a pencil, hence it is classified as not pencil"
   ]
  },
  {
   "cell_type": "code",
   "execution_count": 18,
   "metadata": {},
   "outputs": [
    {
     "data": {
      "text/plain": [
       "'Not Pencil'"
      ]
     },
     "execution_count": 18,
     "metadata": {},
     "output_type": "execute_result"
    }
   ],
   "source": [
    "classifier2.isItAPencil()"
   ]
  },
  {
   "cell_type": "code",
   "execution_count": 19,
   "metadata": {},
   "outputs": [],
   "source": [
    "classifier3 = pencilClassifier(length_of_wood=11,presence_of_graphite='Yes')\n",
    "\n",
    "# The wood is equal to 11 cms and has graphite, hence it is a pencil"
   ]
  },
  {
   "cell_type": "code",
   "execution_count": 20,
   "metadata": {},
   "outputs": [
    {
     "data": {
      "text/plain": [
       "'Pencil'"
      ]
     },
     "execution_count": 20,
     "metadata": {},
     "output_type": "execute_result"
    }
   ],
   "source": [
    "classifier3.isItAPencil()"
   ]
  },
  {
   "cell_type": "code",
   "execution_count": null,
   "metadata": {},
   "outputs": [],
   "source": []
  }
 ],
 "metadata": {
  "kernelspec": {
   "display_name": "Python 3",
   "language": "python",
   "name": "python3"
  },
  "language_info": {
   "codemirror_mode": {
    "name": "ipython",
    "version": 3
   },
   "file_extension": ".py",
   "mimetype": "text/x-python",
   "name": "python",
   "nbconvert_exporter": "python",
   "pygments_lexer": "ipython3",
   "version": "3.7.4"
  }
 },
 "nbformat": 4,
 "nbformat_minor": 2
}
