{
 "cells": [
  {
   "cell_type": "markdown",
   "metadata": {},
   "source": [
    " <h4>Unit 3 <h1 style=\"text-align:center\"> Chapter 2</h1>\n",
    " \n",
    " ---"
   ]
  },
  {
   "cell_type": "markdown",
   "metadata": {},
   "source": [
    "# Supervised Machine Learning"
   ]
  },
  {
   "cell_type": "markdown",
   "metadata": {},
   "source": [
    "In the last notebook we looked at Pencil classifier that is able to classify if a certain piece of wood is a pencil or not, based on two features of the wood i.e. length of the wood(a pencil is supposed to be smaller than a log), and presence of graphite(no graphite, no pencil).\n",
    "\n",
    "If defined rules based on these features. But rules are fragile. Suppose a piece of wood is a pencil, but has length 15.1 cm. You might think that why can't we just add another rule for this. Okay! Suppose we did add a rule. \n",
    "\n",
    "Now what happens if a pencil is 14.9cm. We can't keep adding rules for this.\n",
    "\n",
    "Instead of coming up with rules, we are willing to use **supervised learning**."
   ]
  },
  {
   "cell_type": "markdown",
   "metadata": {},
   "source": [
    "---\n",
    "\n",
    "The goal of supervised classification is to take an input $x$ and a **discrete** set of classes $Y$ = $(y_1,y_2,..y_n)$, and return a predicted class out of $Y$"
   ]
  },
  {
   "cell_type": "markdown",
   "metadata": {},
   "source": [
    "### So, where's the *supervision* ?"
   ]
  },
  {
   "cell_type": "markdown",
   "metadata": {},
   "source": [
    "In supervised machine learning, while training a learning algorithm, it is provided with correct class corresponding to an example.\n",
    "\n",
    "If the algorithm predicts wrong class to an example, the accuracy reduces, else added up."
   ]
  },
  {
   "cell_type": "markdown",
   "metadata": {},
   "source": [
    "<h3 style=\"color:red\">Notation alert</h3>"
   ]
  },
  {
   "cell_type": "markdown",
   "metadata": {},
   "source": [
    "In the upcoming parts, I will be using the following notations:\n",
    "\n",
    "Input variable = $d$ instead of $x$\n",
    "\n",
    "Classes = $C = c_1, c_2, c_3,....c_n$ instead of $Y$\n",
    "\n",
    "Output class = $c$ instead of $y$\n",
    "\n",
    "Now, for supervised classification we have $N$ labelled documents such as,\n",
    "\n",
    "$(d_1,c_1), (d_2,c_2),...(d_N,c_N)$"
   ]
  },
  {
   "cell_type": "code",
   "execution_count": null,
   "metadata": {},
   "outputs": [],
   "source": []
  }
 ],
 "metadata": {
  "kernelspec": {
   "display_name": "Python 3",
   "language": "python",
   "name": "python3"
  },
  "language_info": {
   "codemirror_mode": {
    "name": "ipython",
    "version": 3
   },
   "file_extension": ".py",
   "mimetype": "text/x-python",
   "name": "python",
   "nbconvert_exporter": "python",
   "pygments_lexer": "ipython3",
   "version": "3.7.4"
  }
 },
 "nbformat": 4,
 "nbformat_minor": 2
}
